{
 "cells": [
  {
   "cell_type": "code",
   "execution_count": 1,
   "id": "e9d8fc34",
   "metadata": {},
   "outputs": [],
   "source": [
    "from selenium import webdriver\n",
    "from selenium.webdriver.support.ui import Select\n",
    "from selenium.webdriver.common.by import By\n",
    "from selenium.webdriver.common.action_chains import ActionChains\n",
    "from selenium.webdriver.chrome.service import Service\n",
    "import datetime\n",
    "import os\n",
    "import time"
   ]
  },
  {
   "cell_type": "code",
   "execution_count": 2,
   "id": "58c85935",
   "metadata": {},
   "outputs": [],
   "source": [
    "monthall = {1:'January',2:'February',3:'March',4:'April',5:'May',6:'June',7:'July',8:'August',9:'September',10:'October',11:'November',12:'December'}\n",
    "x = datetime.datetime.now()\n",
    "def getmonth():\n",
    "    A = x.month\n",
    "    y = []\n",
    "    for i in monthall.keys():\n",
    "        if i<=A-2:\n",
    "            y.append(monthall.get(i))\n",
    "    return y\n",
    "\n",
    "def tiny_file_rename(newname, folder_of_download):\n",
    "    filename = max([f for f in os.listdir(folder_of_download)], key=lambda xa :   os.path.getctime(os.path.join(folder_of_download,xa)))\n",
    "    if '.part' in filename:\n",
    "        time.sleep(1)\n",
    "        os.rename(os.path.join(folder_of_download, filename), os.path.join(folder_of_download, newname))\n",
    "    else:\n",
    "        os.rename(os.path.join(folder_of_download, filename),os.path.join(folder_of_download,newname))"
   ]
  },
  {
   "cell_type": "code",
   "execution_count": 3,
   "id": "ee3dc1ee",
   "metadata": {},
   "outputs": [],
   "source": [
    "#from selenium.webdriver.common.desired_capabilities import DesiredCapabilities\n",
    "\n",
    "#caps = DesiredCapabilities().CHROME\n",
    "#caps[\"pageLoadStrategy\"] = \"normal\"  #  complete\n",
    "#caps[\"pageLoadStrategy\"] = \"eager\"  #  interactive\n",
    "#caps[\"pageLoadStrategy\"] = \"none\"\n",
    "#driver = webdriver.Chrome(desired_capabilities=caps, executable_path=r'C:\\path\\to\\chromedriver.exe')\n",
    "#driver.get(\"http://google.com\")"
   ]
  },
  {
   "cell_type": "code",
   "execution_count": 4,
   "id": "140a7e56",
   "metadata": {},
   "outputs": [
    {
     "name": "stdout",
     "output_type": "stream",
     "text": [
      "year in A.D.:2020\n"
     ]
    }
   ],
   "source": [
    "year = str(int(input('year in A.D.:')))\n",
    "if x.year > int(year):\n",
    "    month = list(monthall.values())\n",
    "else:\n",
    "    month = getmonth()"
   ]
  },
  {
   "cell_type": "code",
   "execution_count": 5,
   "id": "a1ddb529",
   "metadata": {},
   "outputs": [],
   "source": [
    "for i in month:\n",
    "    web = 'https://www.customs.go.th/statistic_report.php?'\n",
    "\n",
    "    #set download directory\n",
    "\n",
    "    #if browser == 'chrome':\n",
    "    options = webdriver.ChromeOptions()\n",
    "    #options.add_argument(\"--start-maximized\")\n",
    "    prefs = {\"profile.default_content_settings.popups\": 0,\n",
    "            \"download.default_directory\": r\"C:\\Users\\Sirirat\\Desktop\\Nida Master Degree\\DADS5001 Tools\\Miniproject DADS5001\\Data\\\\\", # IMPORTANT - ENDING SLASH V IMPORTANT\n",
    "            \"directory_upgrade\": True}\n",
    "    options.add_experimental_option(\"prefs\", prefs)\n",
    "    chromedriver = Service(r'C:\\Users\\Sirirat\\Desktop\\Nida Master Degree\\DADS5001 Tools\\Miniproject DADS5001\\chromedriver.exe')\n",
    "    driver = webdriver.Chrome(service=chromedriver, options=options)\n",
    "\n",
    "    driver.get('https://www.customs.go.th/statistic_report.php?ini_content=statistics_report&ini_menu=nmenu_esevice&left_menu=nmenu_esevice_007&lang=th&left_menu=nmenu_esevice_007')\n",
    "\n",
    "    find =driver.find_element(By.XPATH,\"//button[text()=' Search']\")\n",
    "    ActionChains(driver).click(find).perform()\n",
    "\n",
    "    #by_tariff_classification\n",
    "    #get_url = str(driver.current_url)\n",
    "    #get_url = get_url.split('&s')\n",
    "    #get_url = web+'tab=by_tariff_classification&s'+get_url[1]\n",
    "\n",
    "    #by_statistic_code\n",
    "    get_url = str(driver.current_url)\n",
    "    get_url = get_url.split('&s')\n",
    "    get_url = web+'tab=by_statistic_code&s'+get_url[1]\n",
    "\n",
    "    driver.get(get_url)\n",
    "\n",
    "    # select to export\n",
    "    select = Select(driver.find_element(\"id\", \"imex_type\"))\n",
    "    select.select_by_visible_text('Export')\n",
    "\n",
    "    #select country\n",
    "    select = Select(driver.find_element(\"id\", \"country_code\"))\n",
    "    select.select_by_visible_text('All Country')\n",
    "\n",
    "    #select year\n",
    "    select = Select(driver.find_element(\"name\", \"year\"))\n",
    "    select.select_by_visible_text(year)\n",
    "\n",
    "    #select month\n",
    "    #M = f'\"{i}\"'\n",
    "    select = Select(driver.find_element(\"id\", \"width-dynamic\"))\n",
    "    select.select_by_visible_text(i)\n",
    "\n",
    "    #click search\n",
    "    find =driver.find_element(By.XPATH,\"//button[text()=' Search']\")\n",
    "    ActionChains(driver).click(find).perform()\n",
    "\n",
    "    #Click Export CSV to get file to prefered dir\n",
    "    find =driver.find_element(By.XPATH,\"//button[text()=' Export CSV']\")\n",
    "    ActionChains(driver).click(find).perform()\n",
    "    \n",
    "    time.sleep(15)\n",
    "    driver.close()\n",
    "    \n",
    "    #Change file name\n",
    "    Address = 'C:\\\\Users\\\\Sirirat\\\\Desktop\\\\Nida Master Degree\\\\DADS5001 Tools\\\\Miniproject DADS5001\\\\Data\\\\'\n",
    "    for num, name1 in monthall.items():\n",
    "        if name1 == i:\n",
    "            if num < 10:\n",
    "                name = f'{year}0{num}_All_Country_by_statistic_code.csv'\n",
    "            else:\n",
    "                name = f'{year}{num}_All_Country_by_statistic_code.csv'\n",
    "    tiny_file_rename(name,Address)"
   ]
  }
 ],
 "metadata": {
  "hide_input": false,
  "kernelspec": {
   "display_name": "Python 3 (ipykernel)",
   "language": "python",
   "name": "python3"
  },
  "language_info": {
   "codemirror_mode": {
    "name": "ipython",
    "version": 3
   },
   "file_extension": ".py",
   "mimetype": "text/x-python",
   "name": "python",
   "nbconvert_exporter": "python",
   "pygments_lexer": "ipython3",
   "version": "3.9.7"
  }
 },
 "nbformat": 4,
 "nbformat_minor": 5
}
